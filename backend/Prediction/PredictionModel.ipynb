{
 "cells": [
  {
   "cell_type": "code",
   "execution_count": 28,
   "id": "acda2843-bf7a-443e-b3de-507ffe6f1dc8",
   "metadata": {},
   "outputs": [
    {
     "data": {
      "text/plain": [
       "['prediction_model.pkl']"
      ]
     },
     "execution_count": 28,
     "metadata": {},
     "output_type": "execute_result"
    }
   ],
   "source": [
    "# Import necessary libraries\n",
    "import pandas as pd\n",
    "from sklearn.preprocessing import StandardScaler, OneHotEncoder\n",
    "from sklearn.compose import ColumnTransformer\n",
    "from sklearn.pipeline import Pipeline\n",
    "from sklearn.ensemble import RandomForestRegressor\n",
    "import joblib\n",
    "\n",
    "# Load the data\n",
    "data = pd.read_csv('data.csv')\n",
    "\n",
    "# Define features and target\n",
    "df = pd.DataFrame(data)\n",
    "\n",
    "# Categorical and numerical columns\n",
    "categorical_features = [\n",
    "    'Level', 'Languages', 'ProjectInterest', 'Goal', 'AlgorithmComfort',\n",
    "    'WebDesignComfort', 'ExcitingDevelopment', 'FrontendFrameworks',\n",
    "    'JavaFrameworks', 'ProblemSolvingApproach'\n",
    "]\n",
    "numerical_cols = X.select_dtypes(include=['int64', 'float64']).columns\n",
    "\n",
    "# Preprocessor\n",
    "preprocessor = ColumnTransformer(\n",
    "    transformers=[\n",
    "        ('cat', OneHotEncoder(handle_unknown='ignore'), categorical_features)\n",
    "    ],\n",
    "    remainder='passthrough'\n",
    ")\n",
    "\n",
    "# Create a pipeline\n",
    "model = Pipeline(steps=[\n",
    "    ('preprocessor', preprocessor),\n",
    "    ('classifier', RandomForestRegressor())\n",
    "])\n",
    "# Train the model\n",
    "X = df.drop('score', axis=1)\n",
    "y = df['score']\n",
    "model.fit(X, y)\n",
    "\n",
    "# Save the model\n",
    "joblib.dump(model, 'prediction_model.pkl')"
   ]
  },
  {
   "cell_type": "code",
   "execution_count": 29,
   "id": "bdb089a3-2211-41a6-8cb8-c3190018dbfa",
   "metadata": {},
   "outputs": [
    {
     "name": "stdout",
     "output_type": "stream",
     "text": [
      "Predicted outcome: [5.24]\n"
     ]
    }
   ],
   "source": [
    "import pandas as pd\n",
    "import joblib\n",
    "\n",
    "# Load the sample data\n",
    "sample_data = pd.DataFrame({\n",
    "    'Level': ['Beginner'],\n",
    "    'Languages': ['HTML/CSS'],\n",
    "    'ProjectInterest': ['Building websites and web applications'],\n",
    "    'Goal': ['Get a job in web development'],\n",
    "    'AlgorithmComfort': ['Somewhat comfortable'],\n",
    "    'WebDesignComfort': ['Very comfortable'],\n",
    "    'ExcitingDevelopment': ['Creating visually appealing user interfaces'],\n",
    "    'FrontendFrameworks': ['React'],\n",
    "    'JavaFrameworks': ['None'],\n",
    "    'ProblemSolvingApproach': ['Visualizing the problem and solution'],\n",
    "    'Age': [25]\n",
    "})\n",
    "\n",
    "# Load the model\n",
    "model = joblib.load('prediction_model.pkl')\n",
    "\n",
    "# Predict the outcome for the sample data\n",
    "sample_prediction = model.predict(sample_data)\n",
    "print(\"Predicted outcome:\", sample_prediction)\n"
   ]
  },
  {
   "cell_type": "code",
   "execution_count": null,
   "id": "70472e39-280b-4424-9bd8-e80f72da8c5a",
   "metadata": {},
   "outputs": [],
   "source": []
  }
 ],
 "metadata": {
  "kernelspec": {
   "display_name": "Python 3 (ipykernel)",
   "language": "python",
   "name": "python3"
  },
  "language_info": {
   "codemirror_mode": {
    "name": "ipython",
    "version": 3
   },
   "file_extension": ".py",
   "mimetype": "text/x-python",
   "name": "python",
   "nbconvert_exporter": "python",
   "pygments_lexer": "ipython3",
   "version": "3.12.3"
  }
 },
 "nbformat": 4,
 "nbformat_minor": 5
}
